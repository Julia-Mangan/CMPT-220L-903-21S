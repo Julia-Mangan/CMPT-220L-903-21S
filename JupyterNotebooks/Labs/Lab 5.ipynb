{
 "cells": [
  {
   "cell_type": "markdown",
   "metadata": {},
   "source": [
    "# Lab Five\n",
    "---\n",
    "\n",
    "For this lab we're going to be messing around with our Linear Data Types!\n",
    "\n",
    "Our Goals are:\n",
    "- Creating an Array\n",
    "- Creating an ArrayList\n",
    "- Creating an LinkedList\n",
    "- Creating an Queue\n",
    "- Creating an Stack \n",
    "\n",
    "Please show the ability to:\n",
    "- Create these data types\n",
    "- Populate the data types\n",
    "- Print out the Linear Data Types"
   ]
  },
  {
   "cell_type": "code",
   "execution_count": null,
   "metadata": {},
   "outputs": [],
   "source": [
    "import java.util.Arrays;\n",
    "import java.util.ArrayList;\n",
    "import java.util.LinkedList;\n",
    "import java.util.Queue;\n",
    "import java.util.PriorityQueue;\n",
    "import java.util.Stack;"
   ]
  },
  {
   "cell_type": "markdown",
   "metadata": {},
   "source": []
  },
  {
   "cell_type": "code",
   "execution_count": null,
   "metadata": {},
   "outputs": [],
   "source": [
    "// Create an Array, Populate it, and Print it out\n",
    "String[] fruits = {\"Strawberry,\" \"Apple,\" \"Orange,\" \"Banana,\" \"Pineapple.\" \"Blueberry\"};\n",
    "System.out.println(Arrays.toString(fruits));"
   ]
  },
  {
   "cell_type": "code",
   "execution_count": null,
   "metadata": {},
   "outputs": [],
   "source": [
    "// Create an ArrayList, Populate it, and Print it out\n",
    "ArrayList<String> fruits = new ArrayList<String>();\n",
    "fruits.add(\"Strawberry\");\n",
    "fruits.add(\"Apple\");\n",
    "fruits.add(\"Orange\");\n",
    "fruits.add(\"Banana\");\n",
    "fruits.add(\"Pineapple\");\n",
    "fruits.add(\"Blueberry\");\n",
    "\n",
    "System.out.println(fruits);\n"
   ]
  },
  {
   "cell_type": "code",
   "execution_count": null,
   "metadata": {},
   "outputs": [],
   "source": [
    "// Create an LinkedList, Populate it, and Print it out\n",
    "LinkedList<String> fruits = new LinkedList<String>();\n",
    "fruits.add(\"Strawberry\");\n",
    "fruits.add(\"Apple\");\n",
    "fruits.add(\"Orange\");\n",
    "fruits.add(\"Banana\");\n",
    "fruits.add(\"Pineapple\");\n",
    "fruits.add(\"Blueberry\");\n",
    "\n",
    "System.out.println(fruits);"
   ]
  },
  {
   "cell_type": "code",
   "execution_count": null,
   "metadata": {},
   "outputs": [],
   "source": [
    "// Create an Queue, Populate it, and Print it out\n",
    "Queue<String> fruits = new LinkedList<String>();\n",
    "fruits.add(\"Strawberry\");\n",
    "fruits.add(\"Apple\");\n",
    "fruits.add(\"Orange\");\n",
    "fruits.add(\"Banana\");\n",
    "fruits.add(\"Pineapple\");\n",
    "fruits.add(\"Blueberry\");\n",
    "\n",
    "System.out.println(fruits);\n",
    "\n",
    "Queue<String> fruits = new PriorityQueue<String>();\n",
    "fruits.add(\"Strawberry\");\n",
    "fruits.add(\"Apple\");\n",
    "fruits.add(\"Orange\");\n",
    "fruits.add(\"Banana\");\n",
    "fruits.add(\"Pineapple\");\n",
    "fruits.add(\"Blueberry\");\n",
    "\n",
    "System.out.println(fruits);\n"
   ]
  },
  {
   "cell_type": "code",
   "execution_count": null,
   "metadata": {},
   "outputs": [],
   "source": [
    "// Create an Stack, Populate it, and Print it out\n",
    "\n",
    "Stack<String> fruits = new Stack<String>();\n",
    "fruits.add(\"Strawberry\");\n",
    "fruits.add(\"Apple\");\n",
    "fruits.add(\"Orange\");\n",
    "fruits.add(\"Banana\");\n",
    "fruits.add(\"Pineapple\");\n",
    "fruits.add(\"Blueberry\");\n",
    "\n",
    "System.out.println(fruits);\n"
   ]
  }
 ],
 "metadata": {
  "kernelspec": {
   "display_name": "Java",
   "name": "java"
  },
  "language_info": {
   "name": "java"
  },
  "orig_nbformat": 2
 },
 "nbformat": 4,
 "nbformat_minor": 2
}