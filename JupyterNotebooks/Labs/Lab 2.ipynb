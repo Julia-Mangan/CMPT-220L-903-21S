{
 "cells": [
  {
   "cell_type": "markdown",
   "metadata": {},
   "source": [
    "# Lab Two\n",
    "---\n",
    "\n",
    "Ok for this lab we're going to reiterate a lot of the things that we went over in class.\n",
    "\n",
    "Our Goals are:\n",
    "- Conditionals\n",
    "    - If\n",
    "    - Else\n",
    "    - Else If"
   ]
  },
  {
   "cell_type": "code",
   "execution_count": 1,
   "metadata": {},
   "outputs": [
    {
     "name": "stdout",
     "output_type": "stream",
     "text": [
      "If: This is an if statement\n"
     ]
    }
   ],
   "source": [
    "// Make an if statement\n",
    "if(true){\n",
    "    System.out.println(\"If: This is an if statement\");\n",
    "}"
   ]
  },
  {
   "cell_type": "code",
   "execution_count": 9,
   "metadata": {},
   "outputs": [
    {
     "name": "stdout",
     "output_type": "stream",
     "text": [
      "Else: This is an else statement\n"
     ]
    }
   ],
   "source": [
    "// Make an if, else statement where the else statement triggers\n",
    "if(false){\n",
    "    System.out.println(\"If: This is an if statement\");\n",
    "}else{\n",
    "    System.out.println(\"Else: This is an else statement\");\n",
    "}"
   ]
  },
  {
   "cell_type": "code",
   "execution_count": 11,
   "metadata": {},
   "outputs": [
    {
     "name": "stdout",
     "output_type": "stream",
     "text": [
      "Else if: This is an else if statement\n"
     ]
    }
   ],
   "source": [
    "// Make an if, else if, else statement where the else if statement triggers\n",
    "int time = 3;\n",
    "if (time <1 ) {\n",
    "    System.out.println(\"If: This is an if statement\");\n",
    "}else if (time >= 1){\n",
    "    System.out.println(\"Else if: This is an else if statement\");\n",
    "}else {\n",
    "    System.out.println(\"Else: This is an else statement\");\n",
    "}"
   ]
  },
  {
   "cell_type": "code",
   "execution_count": 3,
   "metadata": {},
   "outputs": [
    {
     "name": "stdout",
     "output_type": "stream",
     "text": [
      "Else: This is an else statement\n"
     ]
    }
   ],
   "source": [
    "// Make 2 variables and use them in an if else conditional\n",
    "int j = 18;\n",
    "int h = 22;\n",
    "\n",
    "if (j>h){\n",
    "    System.out.println(\"If: This is an if statement\");\n",
    "} else {\n",
    "    System.out.println(\"Else: This is an else statement\");\n",
    "}"
   ]
  },
  {
   "cell_type": "code",
   "execution_count": 6,
   "metadata": {},
   "outputs": [
    {
     "name": "stdout",
     "output_type": "stream",
     "text": [
      "If: This is an if with an and operator statement\n"
     ]
    }
   ],
   "source": [
    "// Make an if statement using 2 variables and an AND(&&) statement\n",
    "int j = 30;\n",
    "int h = 43;\n",
    "\n",
    "if (h > j && j == 30){\n",
    "    System.out.println(\"If: This is an if with an and operator statement\");\n",
    "}else {\n",
    "    System.out.println(\"Else: This is an else statement\");\n",
    "}"
   ]
  },
  {
   "cell_type": "markdown",
   "metadata": {},
   "source": [
    " "
   ]
  },
  {
   "cell_type": "code",
   "execution_count": 7,
   "metadata": {},
   "outputs": [
    {
     "name": "stdout",
     "output_type": "stream",
     "text": [
      "If: This is an if with an or and operator statement\n"
     ]
    }
   ],
   "source": [
    "// Make an if statement using 2 variables and an OR(||) statement\n",
    "int j = 22;\n",
    "int r = 31;\n",
    "\n",
    "if (r > j || r == 31){\n",
    "    System.out.println(\"If: This is an if with an or and operator statement\");\n",
    "}else{\n",
    "    System.out.println(\"Else: This is an else statement\");\n",
    "}"
   ]
  }
 ],
 "metadata": {
  "kernelspec": {
   "display_name": "Java",
   "name": "java"
  },
  "language_info": {
   "name": "java"
  },
  "orig_nbformat": 2
 },
 "nbformat": 4,
 "nbformat_minor": 2
}