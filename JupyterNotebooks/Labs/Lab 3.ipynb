{
 "cells": [
  {
   "cell_type": "markdown",
   "metadata": {},
   "source": [
    "# Lab Three\n",
    "---\n",
    "\n",
    "For this lab we're going to be making and using a bunch of functions. \n",
    "\n",
    "Our Goals are:\n",
    "- Switch Case\n",
    "- Looping\n",
    "- Making our own functions\n",
    "- Combining functions\n",
    "- Structuring solutions"
   ]
  },
  {
   "cell_type": "code",
   "execution_count": 3,
   "metadata": {},
   "outputs": [
    {
     "name": "stdout",
     "output_type": "stream",
     "text": [
      "A strawberry is red.\n",
      "A banana is yellow.\n"
     ]
    }
   ],
   "source": [
    "// Give me an example of you using switch case.\n",
    "String starter = \"Strawberry\";\n",
    "\n",
    "switch(starter){\n",
    "    case \"Orange\":\n",
    "        System.out.println(\"An orange is the color orange.\");\n",
    "    case \"Strawberry\":\n",
    "        System.out.println(\"A strawberry is red.\");    \n",
    "    case \"Banana\":\n",
    "        System.out.println(\"A banana is yellow.\");\n",
    "}"
   ]
  },
  {
   "cell_type": "code",
   "execution_count": 5,
   "metadata": {},
   "outputs": [
    {
     "name": "stdout",
     "output_type": "stream",
     "text": [
      "The answer is: 6\n",
      "The answer is: 7\n",
      "The answer is: 8\n",
      "The answer is: 9\n",
      "The answer is: 10\n",
      "The answer is: 11\n",
      "The answer is: 12\n",
      "The answer is: 13\n",
      "The answer is: 14\n",
      "The answer is: 15\n",
      "The answer is: 16\n",
      "The answer is: 17\n",
      "The answer is: 18\n",
      "The answer is: 19\n",
      "The answer is: 20\n",
      "The answer is: 21\n"
     ]
    }
   ],
   "source": [
    "// Give me an example of you using a for loop\n",
    "for (int x = 6; x < 22; x++) {\n",
    "    System.out.println(\"The answer is: \" + x);\n",
    "}"
   ]
  },
  {
   "cell_type": "code",
   "execution_count": 9,
   "metadata": {},
   "outputs": [
    {
     "name": "stdout",
     "output_type": "stream",
     "text": [
      "Mike\n",
      "Kate\n",
      "James\n",
      "Julia\n",
      "Olivis\n",
      "Finn\n"
     ]
    }
   ],
   "source": [
    "// Give me an example of you using a for each loop\n",
    "String[] Mangan = {\"Mike\", \"Kate\", \"James\", \"Julia\", \"Olivis\", \"Finn\"};\n",
    "\n",
    "for (String names: Mangan) {\n",
    "    System.out.println(names);\n",
    "}\n"
   ]
  },
  {
   "cell_type": "code",
   "execution_count": 11,
   "metadata": {},
   "outputs": [
    {
     "name": "stdout",
     "output_type": "stream",
     "text": [
      "This is not the New Number.\n",
      "This is not the New Number.\n",
      "This is not the New Number.\n",
      "This is not the New Number.\n",
      "This is not the New Number.\n",
      "This is not the New Number.\n",
      "The new number has been identified: 6\n"
     ]
    }
   ],
   "source": [
    "// Give me an example of you using a while loop\n",
    "import java.lang.Math;\n",
    "\n",
    "int min = 4;\n",
    "int max = 13;\n",
    "int range = max - min + 2;\n",
    "int NewNumber = (int) (Math.random() * range) + min;\n",
    "\n",
    "int orderNumber = 0;\n",
    "\n",
    "while (orderNumber != NewNumber) {\n",
    "    System.out.println(\"This is not the New Number.\");\n",
    "    orderNumber++;\n",
    "}\n",
    "\n",
    "System.out.println(\"The new number has been identified: \" + NewNumber);"
   ]
  },
  {
   "cell_type": "code",
   "execution_count": 15,
   "metadata": {},
   "outputs": [
    {
     "name": "stdout",
     "output_type": "stream",
     "text": [
      "2744.0\n"
     ]
    }
   ],
   "source": [
    "// I want you to write a function that will take in a number and raise it to the power given. \n",
    "\n",
    "// For example if given the numbers 2 and 3. The math that the function should do is 2^3 and should print out or return 8. Print the output.\n",
    "\n",
    "double power (int base, int exponent) {\n",
    "     return Math.pow(base,exponent);\n",
    "}\n",
    "\n",
    "System.out.println(power(14,3));"
   ]
  },
  {
   "cell_type": "code",
   "execution_count": 18,
   "metadata": {},
   "outputs": [
    {
     "name": "stdout",
     "output_type": "stream",
     "text": [
      "There are 3 2's in the given array\n"
     ]
    }
   ],
   "source": [
    "// I want you to write a function that will take in a list and see how many times a given number is in the list. \n",
    "\n",
    "// For example if the array given is [2,3,5,2,3,6,7,8,2] and the number given is 2 the function should print out or return 3. Print the output.\n",
    "void number_counter(int[] array, int target){\n",
    "    if (array.length == 0) {\n",
    "        System.out.println(\"The array provided was empty. Please provide a valid array.\");\n",
    "        return;\n",
    "    }\n",
    "    \n",
    "    int counter = 0;\n",
    "    for (int number: array) {\n",
    "        if (target == number) {\n",
    "            counter++;\n",
    "        }\n",
    "    }\n",
    "    System.out.println(\"There are \" + counter + \" \" + target + \"'s in the given array\");\n",
    "}\n",
    "\n",
    "// int[] array = {1,2,3,4,1,2,3,4,1,1,1,2,3,4,4,4,4};\n",
    "int[] array = {1,2,3,4,1,2,3,4,1,1,1,2,3,4,4,4,4};\n",
    "number_counter(array, 2);"
   ]
  },
  {
   "cell_type": "code",
   "execution_count": 20,
   "metadata": {},
   "outputs": [
    {
     "name": "stdout",
     "output_type": "stream",
     "text": [
      "c comes out to be 5.0 and c squared was 25.0.\n"
     ]
    }
   ],
   "source": [
    "// Give me a function that gives the answer to the pythagorean theorem. \n",
    "// I'd like you to reuse the exponent function from above as well as the functions below to make your function.\n",
    "\n",
    "// If you don't remember the pythagorean theorem the formula is (a^2 + b^2 = c^2). Given a and b as parameters i'd like you to return c. \n",
    "// If this doesn't make sense look up `Pythagorean Theorem Formula` on google.\n",
    "\n",
    "double addition(double a, double b) {\n",
    "    double answer = a + b;\n",
    "    return answer;\n",
    "}\n",
    "\n",
    "double division(int a, int b) {\n",
    "    int answer = a / b;\n",
    "    return answer;\n",
    "}\n",
    "\n",
    "void pythagorean_theorem(int a, int b) {\n",
    "    double a_squared = power(a, 2);\n",
    "    double b_squared = power(b, 2);\n",
    "    double c_squared = addition(a_squared, b_squared);\n",
    "    double c = Math.sqrt(c_squared);\n",
    "    \n",
    "    System.out.println(\"c comes out to be \" + c + \" and c squared was \" + c_squared + \".\");\n",
    "}\n",
    "\n",
    "pythagorean_theorem(3,4);\n",
    "\n",
    "\n",
    "\n"
   ]
  }
 ],
 "metadata": {
  "kernelspec": {
   "display_name": "Java",
   "language": "java",
   "name": "java"
  },
  "language_info": {
   "codemirror_mode": "java",
   "file_extension": ".jshell",
   "mimetype": "text/x-java-source",
   "name": "Java",
   "pygments_lexer": "java",
   "version": "15.0.2+7-27"
  },
  "orig_nbformat": 2
 },
 "nbformat": 4,
 "nbformat_minor": 2
}