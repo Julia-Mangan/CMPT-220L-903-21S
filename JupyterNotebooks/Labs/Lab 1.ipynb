{
 "cells": [
  {
   "cell_type": "markdown",
   "metadata": {},
   "source": [
    "# Lab One\n",
    "---\n",
    "\n",
    "Ok for this lab we're going to reiterate a lot of the things that we went over in class.\n",
    "\n",
    "Our Goals are:\n",
    "- Binary Math\n",
    "- Defining Variables\n",
    "    - Primitive Types\n",
    "    - Reference Types\n",
    "- Using Math\n",
    "- Manipulating Variables"
   ]
  },
  {
   "cell_type": "markdown",
   "metadata": {},
   "source": [
    "For this section I just want you to type the answer. I know that you can just look this up but try and do the math. \n",
    "### What is 1000 in Decimal\n",
    "8\n",
    "\n",
    "### What is 1000 1001 in Decimal (This is a byte. It's just split for readability)\n",
    "137\n",
    "\n",
    "### What is 1010 1111 in Decimal (This is a byte. It's just split for readability)\n",
    "175\n",
    "\n",
    "### What is 0101 1010 in Decimal (This is a byte. It's just split for readability)\n",
    "90\n"
   ]
  },
  {
   "cell_type": "code",
   "execution_count": 19,
   "metadata": {},
   "outputs": [
    {
     "name": "stdout",
     "output_type": "stream",
     "text": [
      "true\n",
      "119\n",
      "123\n",
      "12312\n",
      "213144\n",
      "0.3333333\n",
      "3.8000975457321453E8\n",
      "c\n"
     ]
    }
   ],
   "source": [
    "// Define 8 variables, one of each type listed: [boolean, byte, short, int, long, float, double, char]. Print all 8 of them\n",
    "boolean is_true = true;\n",
    "System.out.println(is_true);\n",
    "\n",
    "byte number = 119; \n",
    "System.out.println(number);\n",
    "\n",
    "short bigger_number = 123; \n",
    "System.out.println(bigger_number);\n",
    "\n",
    "int even_bigger_number = 12312;\n",
    "System.out.println(even_bigger_number);\n",
    "\n",
    "long huge_number = 213144;\n",
    "System.out.println(huge_number);\n",
    "\n",
    "float dec = 0.33333332222211f;\n",
    "System.out.println(dec);\n",
    "\n",
    "double big_dec = 380009754.57321453;\n",
    "System.out.println(big_dec);\n",
    "\n",
    "char c = 'c';\n",
    "System.out.println(c);\n"
   ]
  },
  {
   "cell_type": "code",
   "execution_count": 20,
   "metadata": {},
   "outputs": [],
   "source": [
    "// Make me a list of any type\n",
    "int[] list = {1,2,3,4,5,6};"
   ]
  },
  {
   "cell_type": "code",
   "execution_count": 23,
   "metadata": {},
   "outputs": [
    {
     "name": "stdout",
     "output_type": "stream",
     "text": [
      "45\n",
      "15\n",
      "2\n",
      "450\n",
      "0\n"
     ]
    }
   ],
   "source": [
    "// With whatever variables you'd like demonstrate the following: [Addition, Subtraction, Division, Multiplication, Modulo]. Print all 5.\n",
    "int c = 15;\n",
    "int d = 30;\n",
    "\n",
    "System.out.println(c+d);\n",
    "System.out.println(d-c);\n",
    "System.out.println(d/c);\n",
    "System.out.println(d*c);\n",
    "System.out.println(d % c);"
   ]
  },
  {
   "cell_type": "code",
   "execution_count": 33,
   "metadata": {},
   "outputs": [
    {
     "name": "stdout",
     "output_type": "stream",
     "text": [
      "57\n"
     ]
    }
   ],
   "source": [
    "// Using 2 variables and addition print the number 57\n",
    "int c = 48;\n",
    "int d = 9;\n",
    "\n",
    "System.out.println(c + d);\n"
   ]
  },
  {
   "cell_type": "code",
   "execution_count": 31,
   "metadata": {},
   "outputs": [
    {
     "name": "stdout",
     "output_type": "stream",
     "text": [
      "Hello! My name is Julia.\n"
     ]
    }
   ],
   "source": [
    "// Define a variable and print it out. Then alter the same variable and print it out. This can be through string concatenation or addition, etc.\n",
    "\n",
    "String part1 = \"Hello! \"; \n",
    "String part2 = \"My name is Julia.\";\n",
    "\n",
    "System.out.println(part1 + part2);"
   ]
  }
 ],
 "metadata": {
  "kernelspec": {
   "display_name": "Java",
   "language": "java",
   "name": "java"
  },
  "language_info": {
   "codemirror_mode": "java",
   "file_extension": ".jshell",
   "mimetype": "text/x-java-source",
   "name": "Java",
   "pygments_lexer": "java",
   "version": "15.0.2+7-27"
  },
  "orig_nbformat": 2
 },
 "nbformat": 4,
 "nbformat_minor": 2
}